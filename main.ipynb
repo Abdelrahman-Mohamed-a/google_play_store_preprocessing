{
 "cells": [
  {
   "cell_type": "markdown",
   "id": "b43d653e-3a01-44b3-b2d9-63112f142e6c",
   "metadata": {
    "jp-MarkdownHeadingCollapsed": true
   },
   "source": [
    "# Imports"
   ]
  },
  {
   "cell_type": "code",
   "execution_count": 1,
   "id": "39445a94-f0a4-4fd7-bf99-5d507924291c",
   "metadata": {},
   "outputs": [],
   "source": [
    "import pandas as pd\n",
    "import matplotlib.pyplot as plt\n",
    "import seaborn as sns\n",
    "from utils import draw_hist"
   ]
  },
  {
   "cell_type": "markdown",
   "id": "d9ba34f3-d058-4da7-bbd7-48eb2a349dea",
   "metadata": {},
   "source": [
    "# Read Data and Explore it"
   ]
  },
  {
   "cell_type": "code",
   "execution_count": 2,
   "id": "9f8e11e5-e586-45f2-99fe-08fff4296cd1",
   "metadata": {},
   "outputs": [],
   "source": [
    "google_play_df = pd.read_csv('googleplaystore.csv')"
   ]
  },
  {
   "cell_type": "code",
   "execution_count": 3,
   "id": "ff0d8af3-da13-4477-9d0b-4b419b60f422",
   "metadata": {},
   "outputs": [
    {
     "data": {
      "text/html": [
       "<div>\n",
       "<style scoped>\n",
       "    .dataframe tbody tr th:only-of-type {\n",
       "        vertical-align: middle;\n",
       "    }\n",
       "\n",
       "    .dataframe tbody tr th {\n",
       "        vertical-align: top;\n",
       "    }\n",
       "\n",
       "    .dataframe thead th {\n",
       "        text-align: right;\n",
       "    }\n",
       "</style>\n",
       "<table border=\"1\" class=\"dataframe\">\n",
       "  <thead>\n",
       "    <tr style=\"text-align: right;\">\n",
       "      <th></th>\n",
       "      <th>App</th>\n",
       "      <th>Category</th>\n",
       "      <th>Rating</th>\n",
       "      <th>Reviews</th>\n",
       "      <th>Size</th>\n",
       "      <th>Installs</th>\n",
       "      <th>Type</th>\n",
       "      <th>Price</th>\n",
       "      <th>Content Rating</th>\n",
       "      <th>Genres</th>\n",
       "      <th>Last Updated</th>\n",
       "      <th>Current Ver</th>\n",
       "      <th>Android Ver</th>\n",
       "    </tr>\n",
       "  </thead>\n",
       "  <tbody>\n",
       "    <tr>\n",
       "      <th>0</th>\n",
       "      <td>Photo Editor &amp; Candy Camera &amp; Grid &amp; ScrapBook</td>\n",
       "      <td>ART_AND_DESIGN</td>\n",
       "      <td>4.1</td>\n",
       "      <td>159</td>\n",
       "      <td>19M</td>\n",
       "      <td>10,000+</td>\n",
       "      <td>Free</td>\n",
       "      <td>0</td>\n",
       "      <td>Everyone</td>\n",
       "      <td>Art &amp; Design</td>\n",
       "      <td>January 7, 2018</td>\n",
       "      <td>1.0.0</td>\n",
       "      <td>4.0.3 and up</td>\n",
       "    </tr>\n",
       "    <tr>\n",
       "      <th>1</th>\n",
       "      <td>Coloring book moana</td>\n",
       "      <td>ART_AND_DESIGN</td>\n",
       "      <td>3.9</td>\n",
       "      <td>967</td>\n",
       "      <td>14M</td>\n",
       "      <td>500,000+</td>\n",
       "      <td>Free</td>\n",
       "      <td>0</td>\n",
       "      <td>Everyone</td>\n",
       "      <td>Art &amp; Design;Pretend Play</td>\n",
       "      <td>January 15, 2018</td>\n",
       "      <td>2.0.0</td>\n",
       "      <td>4.0.3 and up</td>\n",
       "    </tr>\n",
       "    <tr>\n",
       "      <th>2</th>\n",
       "      <td>U Launcher Lite – FREE Live Cool Themes, Hide ...</td>\n",
       "      <td>ART_AND_DESIGN</td>\n",
       "      <td>4.7</td>\n",
       "      <td>87510</td>\n",
       "      <td>8.7M</td>\n",
       "      <td>5,000,000+</td>\n",
       "      <td>Free</td>\n",
       "      <td>0</td>\n",
       "      <td>Everyone</td>\n",
       "      <td>Art &amp; Design</td>\n",
       "      <td>August 1, 2018</td>\n",
       "      <td>1.2.4</td>\n",
       "      <td>4.0.3 and up</td>\n",
       "    </tr>\n",
       "    <tr>\n",
       "      <th>3</th>\n",
       "      <td>Sketch - Draw &amp; Paint</td>\n",
       "      <td>ART_AND_DESIGN</td>\n",
       "      <td>4.5</td>\n",
       "      <td>215644</td>\n",
       "      <td>25M</td>\n",
       "      <td>50,000,000+</td>\n",
       "      <td>Free</td>\n",
       "      <td>0</td>\n",
       "      <td>Teen</td>\n",
       "      <td>Art &amp; Design</td>\n",
       "      <td>June 8, 2018</td>\n",
       "      <td>Varies with device</td>\n",
       "      <td>4.2 and up</td>\n",
       "    </tr>\n",
       "    <tr>\n",
       "      <th>4</th>\n",
       "      <td>Pixel Draw - Number Art Coloring Book</td>\n",
       "      <td>ART_AND_DESIGN</td>\n",
       "      <td>4.3</td>\n",
       "      <td>967</td>\n",
       "      <td>2.8M</td>\n",
       "      <td>100,000+</td>\n",
       "      <td>Free</td>\n",
       "      <td>0</td>\n",
       "      <td>Everyone</td>\n",
       "      <td>Art &amp; Design;Creativity</td>\n",
       "      <td>June 20, 2018</td>\n",
       "      <td>1.1</td>\n",
       "      <td>4.4 and up</td>\n",
       "    </tr>\n",
       "  </tbody>\n",
       "</table>\n",
       "</div>"
      ],
      "text/plain": [
       "                                                 App        Category  Rating  \\\n",
       "0     Photo Editor & Candy Camera & Grid & ScrapBook  ART_AND_DESIGN     4.1   \n",
       "1                                Coloring book moana  ART_AND_DESIGN     3.9   \n",
       "2  U Launcher Lite – FREE Live Cool Themes, Hide ...  ART_AND_DESIGN     4.7   \n",
       "3                              Sketch - Draw & Paint  ART_AND_DESIGN     4.5   \n",
       "4              Pixel Draw - Number Art Coloring Book  ART_AND_DESIGN     4.3   \n",
       "\n",
       "  Reviews  Size     Installs  Type Price Content Rating  \\\n",
       "0     159   19M      10,000+  Free     0       Everyone   \n",
       "1     967   14M     500,000+  Free     0       Everyone   \n",
       "2   87510  8.7M   5,000,000+  Free     0       Everyone   \n",
       "3  215644   25M  50,000,000+  Free     0           Teen   \n",
       "4     967  2.8M     100,000+  Free     0       Everyone   \n",
       "\n",
       "                      Genres      Last Updated         Current Ver  \\\n",
       "0               Art & Design   January 7, 2018               1.0.0   \n",
       "1  Art & Design;Pretend Play  January 15, 2018               2.0.0   \n",
       "2               Art & Design    August 1, 2018               1.2.4   \n",
       "3               Art & Design      June 8, 2018  Varies with device   \n",
       "4    Art & Design;Creativity     June 20, 2018                 1.1   \n",
       "\n",
       "    Android Ver  \n",
       "0  4.0.3 and up  \n",
       "1  4.0.3 and up  \n",
       "2  4.0.3 and up  \n",
       "3    4.2 and up  \n",
       "4    4.4 and up  "
      ]
     },
     "execution_count": 3,
     "metadata": {},
     "output_type": "execute_result"
    }
   ],
   "source": [
    "google_play_df.head()"
   ]
  },
  {
   "cell_type": "code",
   "execution_count": 4,
   "id": "70b84588-6fed-4e14-a837-c61467864ec5",
   "metadata": {},
   "outputs": [
    {
     "data": {
      "text/plain": [
       "(10841, 13)"
      ]
     },
     "execution_count": 4,
     "metadata": {},
     "output_type": "execute_result"
    }
   ],
   "source": [
    "google_play_df.shape"
   ]
  },
  {
   "cell_type": "code",
   "execution_count": 5,
   "id": "0f08a652-efea-4332-8905-e323fadfb0f5",
   "metadata": {},
   "outputs": [
    {
     "name": "stdout",
     "output_type": "stream",
     "text": [
      "<class 'pandas.core.frame.DataFrame'>\n",
      "RangeIndex: 10841 entries, 0 to 10840\n",
      "Data columns (total 13 columns):\n",
      " #   Column          Non-Null Count  Dtype  \n",
      "---  ------          --------------  -----  \n",
      " 0   App             10841 non-null  object \n",
      " 1   Category        10841 non-null  object \n",
      " 2   Rating          9367 non-null   float64\n",
      " 3   Reviews         10841 non-null  object \n",
      " 4   Size            10841 non-null  object \n",
      " 5   Installs        10841 non-null  object \n",
      " 6   Type            10840 non-null  object \n",
      " 7   Price           10841 non-null  object \n",
      " 8   Content Rating  10840 non-null  object \n",
      " 9   Genres          10841 non-null  object \n",
      " 10  Last Updated    10841 non-null  object \n",
      " 11  Current Ver     10833 non-null  object \n",
      " 12  Android Ver     10838 non-null  object \n",
      "dtypes: float64(1), object(12)\n",
      "memory usage: 1.1+ MB\n"
     ]
    }
   ],
   "source": [
    "google_play_df.info()"
   ]
  },
  {
   "cell_type": "code",
   "execution_count": 6,
   "id": "9a889b50-4a39-4c3e-9c53-ccfac826a04f",
   "metadata": {},
   "outputs": [
    {
     "data": {
      "text/html": [
       "<div>\n",
       "<style scoped>\n",
       "    .dataframe tbody tr th:only-of-type {\n",
       "        vertical-align: middle;\n",
       "    }\n",
       "\n",
       "    .dataframe tbody tr th {\n",
       "        vertical-align: top;\n",
       "    }\n",
       "\n",
       "    .dataframe thead th {\n",
       "        text-align: right;\n",
       "    }\n",
       "</style>\n",
       "<table border=\"1\" class=\"dataframe\">\n",
       "  <thead>\n",
       "    <tr style=\"text-align: right;\">\n",
       "      <th></th>\n",
       "      <th>Rating</th>\n",
       "    </tr>\n",
       "  </thead>\n",
       "  <tbody>\n",
       "    <tr>\n",
       "      <th>count</th>\n",
       "      <td>9367.000000</td>\n",
       "    </tr>\n",
       "    <tr>\n",
       "      <th>mean</th>\n",
       "      <td>4.193338</td>\n",
       "    </tr>\n",
       "    <tr>\n",
       "      <th>std</th>\n",
       "      <td>0.537431</td>\n",
       "    </tr>\n",
       "    <tr>\n",
       "      <th>min</th>\n",
       "      <td>1.000000</td>\n",
       "    </tr>\n",
       "    <tr>\n",
       "      <th>25%</th>\n",
       "      <td>4.000000</td>\n",
       "    </tr>\n",
       "    <tr>\n",
       "      <th>50%</th>\n",
       "      <td>4.300000</td>\n",
       "    </tr>\n",
       "    <tr>\n",
       "      <th>75%</th>\n",
       "      <td>4.500000</td>\n",
       "    </tr>\n",
       "    <tr>\n",
       "      <th>max</th>\n",
       "      <td>19.000000</td>\n",
       "    </tr>\n",
       "  </tbody>\n",
       "</table>\n",
       "</div>"
      ],
      "text/plain": [
       "            Rating\n",
       "count  9367.000000\n",
       "mean      4.193338\n",
       "std       0.537431\n",
       "min       1.000000\n",
       "25%       4.000000\n",
       "50%       4.300000\n",
       "75%       4.500000\n",
       "max      19.000000"
      ]
     },
     "execution_count": 6,
     "metadata": {},
     "output_type": "execute_result"
    }
   ],
   "source": [
    "google_play_df.describe()"
   ]
  },
  {
   "cell_type": "markdown",
   "id": "2870918c-a278-4e35-b42e-e631560da8bb",
   "metadata": {},
   "source": [
    "# Fix Columns"
   ]
  },
  {
   "cell_type": "markdown",
   "id": "aed0183f-16f1-48ce-b30c-6f455101063a",
   "metadata": {
    "jp-MarkdownHeadingCollapsed": true
   },
   "source": [
    "## Fix Rating"
   ]
  },
  {
   "cell_type": "code",
   "execution_count": 7,
   "id": "872035b9-67aa-4ac3-9196-f1096b6056de",
   "metadata": {},
   "outputs": [],
   "source": [
    "# Rating has max of 19 which is not correct\n",
    "rating_mean = round(google_play_df['Rating'].mean(),1)\n",
    "google_play_df.loc[google_play_df['Rating']>5 ,'Rating'] = 5\n",
    "google_play_df.loc[google_play_df['Rating']<0,'Rating'] = 0\n",
    "\n",
    "# replacing null with the mean of its category\n",
    "google_play_df['Rating'] = google_play_df['Rating'].fillna(google_play_df.groupby('Category')['Rating'].transform('mean'))"
   ]
  },
  {
   "cell_type": "code",
   "execution_count": 8,
   "id": "d441e2fd-0ab5-421d-9c8e-77c54814ff19",
   "metadata": {},
   "outputs": [
    {
     "data": {
      "image/png": "[encoded data removed]",
      "text/plain": [
       "<Figure size 800x500 with 1 Axes>"
      ]
     },
     "metadata": {},
     "output_type": "display_data"
    }
   ],
   "source": [
    "# Viewing the Ratings Columns\n",
    "draw_hist(google_play_df,'Rating')"
   ]
  },
  {
   "cell_type": "markdown",
   "id": "deec193a-751c-480f-8fcc-58a0f81b82ca",
   "metadata": {
    "jp-MarkdownHeadingCollapsed": true
   },
   "source": [
    "## Fix Size"
   ]
  },
  {
   "cell_type": "code",
   "execution_count": 9,
   "id": "6ca10638-19e7-497d-977b-e3bfc01e7898",
   "metadata": {},
   "outputs": [
    {
     "name": "stdout",
     "output_type": "stream",
     "text": [
      "Size now only contains even kilo byte or mega byte\n"
     ]
    }
   ],
   "source": [
    "# remove the rows with not specified size \n",
    "google_play_df = google_play_df[google_play_df['Size'].str.lower().str.endswith('m')\n",
    "|google_play_df['Size'].str.lower().str.endswith('k')]\n",
    "\n",
    "if (google_play_df[google_play_df['Size'].str.lower().str.contains('k')].shape[0]\n",
    "    + google_play_df[google_play_df['Size'].str.lower().str.contains('m')].shape[0]\n",
    "    )== google_play_df.shape[0]:\n",
    "    print(\"Size now only contains even kilo byte or mega byte\")\n"
   ]
  },
  {
   "cell_type": "code",
   "execution_count": 10,
   "id": "f385af60-cc00-4995-b2e5-b6bf8a64a287",
   "metadata": {},
   "outputs": [
    {
     "data": {
      "text/plain": [
       "0        19.0\n",
       "1        14.0\n",
       "2         8.7\n",
       "3        25.0\n",
       "4         2.8\n",
       "         ... \n",
       "10835     9.6\n",
       "10836    53.0\n",
       "10837     3.6\n",
       "10838     9.5\n",
       "10840    19.0\n",
       "Name: Size, Length: 9145, dtype: float64"
      ]
     },
     "execution_count": 10,
     "metadata": {},
     "output_type": "execute_result"
    }
   ],
   "source": [
    "# convert the 'Size column into mega byte  \n",
    "def convert_size_to_mb(x):\n",
    "    x = str(x).lower()\n",
    "    if x[-1]=='m':\n",
    "        return float(x[:-1])\n",
    "    return float(x[:-1])/(1024)\n",
    "\n",
    "assert convert_size_to_mb('2M')==2\n",
    "assert convert_size_to_mb('2k')==2/1024\n",
    "\n",
    "google_play_df['Size'] = google_play_df['Size'].apply(convert_size_to_mb) \n",
    "google_play_df['Size']"
   ]
  },
  {
   "cell_type": "code",
   "execution_count": 11,
   "id": "020df55e-37ce-41f7-8230-b58a8cbc9a18",
   "metadata": {},
   "outputs": [
    {
     "data": {
      "image/png": "[encoded data removed]",
      "text/plain": [
       "<Figure size 800x500 with 1 Axes>"
      ]
     },
     "metadata": {},
     "output_type": "display_data"
    }
   ],
   "source": [
    "# Viewing the Size Columns\n",
    "draw_hist(google_play_df,'Size')"
   ]
  },
  {
   "cell_type": "markdown",
   "id": "1ca47ce9-ca57-40e7-bdcd-532f193989cb",
   "metadata": {
    "jp-MarkdownHeadingCollapsed": true
   },
   "source": [
    "## Fix Price"
   ]
  },
  {
   "cell_type": "code",
   "execution_count": 12,
   "id": "67658a06-832f-48d6-9189-c112c74e5f5e",
   "metadata": {},
   "outputs": [
    {
     "data": {
      "text/plain": [
       "Price\n",
       "0.00      8421\n",
       "0.99       145\n",
       "2.99       114\n",
       "1.99        66\n",
       "4.99        65\n",
       "          ... \n",
       "389.99       1\n",
       "19.90        1\n",
       "1.75         1\n",
       "14.00        1\n",
       "1.04         1\n",
       "Name: count, Length: 87, dtype: int64"
      ]
     },
     "execution_count": 12,
     "metadata": {},
     "output_type": "execute_result"
    }
   ],
   "source": [
    "def remove_dollar_sign(x):\n",
    "    if(x=='0'): return float(x)\n",
    "    return float(x[1:])\n",
    "google_play_df['Price'] = google_play_df['Price'].apply(remove_dollar_sign)\n",
    "google_play_df['Price'].value_counts()                         "
   ]
  },
  {
   "cell_type": "code",
   "execution_count": 13,
   "id": "fbee81c9-c826-45f8-96c7-a5010b0dd3d0",
   "metadata": {},
   "outputs": [
    {
     "data": {
      "image/png": "[encoded data removed]",
      "text/plain": [
       "<Figure size 800x500 with 1 Axes>"
      ]
     },
     "metadata": {},
     "output_type": "display_data"
    }
   ],
   "source": [
    "# Viewing the Size Columns\n",
    "draw_hist(google_play_df,'Price')"
   ]
  },
  {
   "cell_type": "code",
   "execution_count": 14,
   "id": "062bf7a8-b6ec-47c8-82ef-a039f0206867",
   "metadata": {},
   "outputs": [
    {
     "name": "stdout",
     "output_type": "stream",
     "text": [
      "Number of nulls in Price table 0\n"
     ]
    }
   ],
   "source": [
    "print('Number of nulls in Price table',google_play_df['Price'].isnull().sum())"
   ]
  },
  {
   "cell_type": "markdown",
   "id": "fbc1c3c9-7662-4f44-95c8-d6ade9e7e294",
   "metadata": {
    "jp-MarkdownHeadingCollapsed": true
   },
   "source": [
    "## Fix Category"
   ]
  },
  {
   "cell_type": "code",
   "execution_count": 15,
   "id": "1f4723d0-7fa9-4e84-87c9-ee3ba5389740",
   "metadata": {},
   "outputs": [
    {
     "data": {
      "text/plain": [
       "Category\n",
       "FAMILY                 1832\n",
       "GAME                   1015\n",
       "TOOLS                   739\n",
       "MEDICAL                 434\n",
       "BUSINESS                400\n",
       "PERSONALIZATION         355\n",
       "LIFESTYLE               345\n",
       "SPORTS                  311\n",
       "FINANCE                 307\n",
       "PRODUCTIVITY            303\n",
       "COMMUNICATION           265\n",
       "HEALTH_AND_FITNESS      264\n",
       "PHOTOGRAPHY             254\n",
       "NEWS_AND_MAGAZINES      216\n",
       "DATING                  212\n",
       "SOCIAL                  210\n",
       "SHOPPING                201\n",
       "BOOKS_AND_REFERENCE     197\n",
       "TRAVEL_AND_LOCAL        192\n",
       "VIDEO_PLAYERS           131\n",
       "EDUCATION               111\n",
       "MAPS_AND_NAVIGATION     108\n",
       "FOOD_AND_DRINK          100\n",
       "ENTERTAINMENT            90\n",
       "LIBRARIES_AND_DEMO       82\n",
       "AUTO_AND_VEHICLES        75\n",
       "HOUSE_AND_HOME           68\n",
       "ART_AND_DESIGN           62\n",
       "EVENTS                   57\n",
       "WEATHER                  57\n",
       "PARENTING                54\n",
       "COMICS                   51\n",
       "BEAUTY                   47\n",
       "Name: count, dtype: int64"
      ]
     },
     "execution_count": 15,
     "metadata": {},
     "output_type": "execute_result"
    }
   ],
   "source": [
    "google_play_df['Category'].value_counts()"
   ]
  },
  {
   "cell_type": "markdown",
   "id": "6e2f741e-28c7-4451-a701-4586d1345f43",
   "metadata": {},
   "source": [
    "## Fix Android Verion and Current Verion"
   ]
  },
  {
   "cell_type": "code",
   "execution_count": 16,
   "id": "694bef4e-f938-4ebd-8b72-88436c1460ee",
   "metadata": {},
   "outputs": [
    {
     "data": {
      "text/plain": [
       "Android Ver\n",
       "4.1 and up            2317\n",
       "4.0.3 and up          1453\n",
       "4.0 and up            1351\n",
       "4.4 and up             910\n",
       "2.3 and up             635\n",
       "5.0 and up             556\n",
       "4.2 and up             372\n",
       "2.3.3 and up           276\n",
       "3.0 and up             241\n",
       "2.2 and up             241\n",
       "4.3 and up             231\n",
       "2.1 and up             134\n",
       "1.6 and up             116\n",
       "6.0 and up              57\n",
       "Varies with device      56\n",
       "7.0 and up              40\n",
       "3.2 and up              36\n",
       "2.0 and up              31\n",
       "5.1 and up              23\n",
       "1.5 and up              19\n",
       "4.4W and up             12\n",
       "3.1 and up              10\n",
       "2.0.1 and up             7\n",
       "8.0 and up               6\n",
       "1.0 and up               2\n",
       "4.0.3 - 7.1.1            2\n",
       "5.0 - 8.0                2\n",
       "7.1 and up               2\n",
       "7.0 - 7.1.1              1\n",
       "4.1 - 7.1.1              1\n",
       "5.0 - 6.0                1\n",
       "2.2 - 7.1.1              1\n",
       "5.0 - 7.1.1              1\n",
       "Name: count, dtype: int64"
      ]
     },
     "execution_count": 16,
     "metadata": {},
     "output_type": "execute_result"
    }
   ],
   "source": [
    "google_play_df['Android Ver'].value_counts()"
   ]
  },
  {
   "cell_type": "code",
   "execution_count": 17,
   "id": "d67433f3-a742-49fe-a1c3-ea61f7bc37d1",
   "metadata": {},
   "outputs": [
    {
     "data": {
      "text/plain": [
       "Current Ver\n",
       "1.0          807\n",
       "1.1          263\n",
       "1.2          178\n",
       "2.0          150\n",
       "1.3          145\n",
       "            ... \n",
       "1.9.8.0        1\n",
       "1.16.2         1\n",
       "0.81 beta      1\n",
       "5.4.4          1\n",
       "2.0.148.0      1\n",
       "Name: count, Length: 2712, dtype: int64"
      ]
     },
     "execution_count": 17,
     "metadata": {},
     "output_type": "execute_result"
    }
   ],
   "source": [
    "google_play_df['Current Ver'].value_counts()"
   ]
  },
  {
   "cell_type": "code",
   "execution_count": 18,
   "id": "d17b9a4f-7568-4bf6-8c3f-8da66ef01f62",
   "metadata": {},
   "outputs": [],
   "source": [
    "# Fix Android Ver\n",
    "#1) drop row with null value in 'Android Ver','Current Ver'\n",
    "google_play_df = google_play_df.dropna(subset=['Android Ver','Current Ver'])\n",
    "google_play_df = google_play_df[google_play_df['Android Ver'] != 'Varies with device']\n",
    "google_play_df = google_play_df[google_play_df['Current Ver'] != 'Varies with device']"
   ]
  },
  {
   "cell_type": "code",
   "execution_count": 19,
   "id": "5430774d-1297-4b9a-9de6-0075a915ba08",
   "metadata": {},
   "outputs": [],
   "source": [
    "google_play_df['Android Ver'] = google_play_df['Android Ver'].str.replace(r'[a-zA-Z]', '', regex=True).str.strip()\n",
    "google_play_df['Current Ver'] = google_play_df['Current Ver'].str.replace(r'[a-zA-Z]', '', regex=True).str.strip()"
   ]
  },
  {
   "cell_type": "code",
   "execution_count": 20,
   "id": "85a28c09-d69b-4b63-9fe8-c261fe6203a5",
   "metadata": {},
   "outputs": [],
   "source": [
    "# Make Android Version in a consistent form \"x.x.x - x.x.x \" or \"x.x.x\"\n",
    "def modify_ver(x):\n",
    "    x = str(x)\n",
    "    versions = []\n",
    "    for ver in x.split('-'):\n",
    "        ver = ver.strip()\n",
    "        if ver.count('.') == 1: \n",
    "            ver += '.0'\n",
    "        versions.append(ver)\n",
    "    return ' - '.join(versions)\n",
    "google_play_df['Android Ver'] = google_play_df['Android Ver'].apply(modify_ver)\n",
    "google_play_df['Current Ver'] = google_play_df['Current Ver'].apply(modify_ver)"
   ]
  },
  {
   "cell_type": "code",
   "execution_count": 21,
   "id": "98cda881-e8d4-41c9-a2cd-b9f060e9d249",
   "metadata": {},
   "outputs": [
    {
     "data": {
      "text/plain": [
       "Android Ver\n",
       "4.1.0            2308\n",
       "4.0.3            1443\n",
       "4.0.0            1348\n",
       "4.4.0             921\n",
       "2.3.0             632\n",
       "5.0.0             553\n",
       "4.2.0             370\n",
       "2.3.3             276\n",
       "2.2.0             241\n",
       "3.0.0             240\n",
       "4.3.0             229\n",
       "2.1.0             134\n",
       "1.6.0             115\n",
       "6.0.0              56\n",
       "7.0.0              40\n",
       "3.2.0              36\n",
       "2.0.0              30\n",
       "5.1.0              23\n",
       "1.5.0              18\n",
       "3.1.0              10\n",
       "2.0.1               7\n",
       "8.0.0               6\n",
       "1.0.0               2\n",
       "4.0.3 - 7.1.1       2\n",
       "7.1.0               2\n",
       "5.0.0 - 8.0.0       2\n",
       "2.2.0 - 7.1.1       1\n",
       "7.0.0 - 7.1.1       1\n",
       "5.0.0 - 6.0.0       1\n",
       "4.1.0 - 7.1.1       1\n",
       "5.0.0 - 7.1.1       1\n",
       "Name: count, dtype: int64"
      ]
     },
     "execution_count": 21,
     "metadata": {},
     "output_type": "execute_result"
    }
   ],
   "source": [
    "google_play_df['Android Ver'].value_counts()"
   ]
  },
  {
   "cell_type": "markdown",
   "id": "fe80900f-d88a-4381-9912-ef9edbf5b83b",
   "metadata": {},
   "source": [
    "## Fix Installs"
   ]
  },
  {
   "cell_type": "code",
   "execution_count": 22,
   "id": "b6e8bca3-7b75-4e0d-ad8d-ce7771a97a40",
   "metadata": {},
   "outputs": [
    {
     "data": {
      "text/plain": [
       "0           10,000+\n",
       "1          500,000+\n",
       "2        5,000,000+\n",
       "4          100,000+\n",
       "5           50,000+\n",
       "            ...    \n",
       "10834          500+\n",
       "10835           10+\n",
       "10836        5,000+\n",
       "10837          100+\n",
       "10838        1,000+\n",
       "Name: Installs, Length: 9049, dtype: object"
      ]
     },
     "execution_count": 22,
     "metadata": {},
     "output_type": "execute_result"
    }
   ],
   "source": [
    "google_play_df['Installs']"
   ]
  },
  {
   "cell_type": "code",
   "execution_count": 23,
   "id": "6e037110-40af-4179-b388-abfe8514fb52",
   "metadata": {},
   "outputs": [],
   "source": [
    "def fix_installs(x):\n",
    "    x = x[:-1]\n",
    "    x = x.replace(r',','')\n",
    "    return float(x)\n",
    "google_play_df['Installs'] = google_play_df['Installs'].apply(fix_installs)"
   ]
  },
  {
   "cell_type": "code",
   "execution_count": 24,
   "id": "b23c48be-16c6-4fe4-84db-6b1a74328d73",
   "metadata": {},
   "outputs": [
    {
     "data": {
      "text/plain": [
       "0          10000.0\n",
       "1         500000.0\n",
       "2        5000000.0\n",
       "4         100000.0\n",
       "5          50000.0\n",
       "           ...    \n",
       "10834        500.0\n",
       "10835         10.0\n",
       "10836       5000.0\n",
       "10837        100.0\n",
       "10838       1000.0\n",
       "Name: Installs, Length: 9049, dtype: float64"
      ]
     },
     "execution_count": 24,
     "metadata": {},
     "output_type": "execute_result"
    }
   ],
   "source": [
    "google_play_df['Installs']"
   ]
  },
  {
   "cell_type": "markdown",
   "id": "ac37acde-42dd-4d20-9d1d-efece3d990f8",
   "metadata": {
    "jp-MarkdownHeadingCollapsed": true
   },
   "source": [
    "## Fix Reviews"
   ]
  },
  {
   "cell_type": "code",
   "execution_count": 25,
   "id": "c7f2cc18-4253-4928-b6b8-01d3c1071256",
   "metadata": {},
   "outputs": [],
   "source": [
    "google_play_df['Reviews'] = pd.to_numeric(google_play_df['Reviews'],errors='coerce')"
   ]
  },
  {
   "cell_type": "code",
   "execution_count": 26,
   "id": "b3b59bf4-cf05-4d2a-a33b-f3c121fb15b5",
   "metadata": {},
   "outputs": [
    {
     "data": {
      "text/plain": [
       "0"
      ]
     },
     "execution_count": 26,
     "metadata": {},
     "output_type": "execute_result"
    }
   ],
   "source": [
    "google_play_df['Reviews'].isnull().sum()"
   ]
  },
  {
   "cell_type": "markdown",
   "id": "ede485d9-7f09-4e0b-8c1b-dda7f30c2b88",
   "metadata": {},
   "source": [
    "## Fix Genres"
   ]
  },
  {
   "cell_type": "code",
   "execution_count": 27,
   "id": "db94f759-ae03-4a7c-9597-19378b143b92",
   "metadata": {},
   "outputs": [],
   "source": [
    "google_play_df['Genres'] = google_play_df['Genres'].str.split(';')"
   ]
  },
  {
   "cell_type": "markdown",
   "id": "fa618f64-1193-49e0-89bc-b4e65c778a2d",
   "metadata": {},
   "source": [
    "## Fix Last Updated"
   ]
  },
  {
   "cell_type": "code",
   "execution_count": 28,
   "id": "50d36179-4463-43e0-8813-c90e426e792c",
   "metadata": {},
   "outputs": [],
   "source": [
    "# convert Last Updated to datetime64 type\n",
    "google_play_df['Last Updated'] = pd.to_datetime(google_play_df['Last Updated'])"
   ]
  },
  {
   "cell_type": "markdown",
   "id": "f5023509-09ee-4d98-8f92-4da1696e1ed9",
   "metadata": {
    "jp-MarkdownHeadingCollapsed": true
   },
   "source": [
    "## Reset Index"
   ]
  },
  {
   "cell_type": "code",
   "execution_count": 29,
   "id": "00b1c67c-53e4-4f2e-9196-958b5464fa3f",
   "metadata": {},
   "outputs": [],
   "source": [
    "google_play_df.reset_index(drop=True, inplace=True)"
   ]
  },
  {
   "cell_type": "markdown",
   "id": "65364b86-bf85-4de1-a314-2e4d5a2a1397",
   "metadata": {},
   "source": [
    "# Look at Data After Fixing it"
   ]
  },
  {
   "cell_type": "code",
   "execution_count": 30,
   "id": "63476395-cc3f-4cb2-b9a8-ef3accd84a4a",
   "metadata": {},
   "outputs": [
    {
     "name": "stdout",
     "output_type": "stream",
     "text": [
      "<class 'pandas.core.frame.DataFrame'>\n",
      "RangeIndex: 9049 entries, 0 to 9048\n",
      "Data columns (total 13 columns):\n",
      " #   Column          Non-Null Count  Dtype         \n",
      "---  ------          --------------  -----         \n",
      " 0   App             9049 non-null   object        \n",
      " 1   Category        9049 non-null   object        \n",
      " 2   Rating          9049 non-null   float64       \n",
      " 3   Reviews         9049 non-null   int64         \n",
      " 4   Size            9049 non-null   float64       \n",
      " 5   Installs        9049 non-null   float64       \n",
      " 6   Type            9049 non-null   object        \n",
      " 7   Price           9049 non-null   float64       \n",
      " 8   Content Rating  9049 non-null   object        \n",
      " 9   Genres          9049 non-null   object        \n",
      " 10  Last Updated    9049 non-null   datetime64[ns]\n",
      " 11  Current Ver     9049 non-null   object        \n",
      " 12  Android Ver     9049 non-null   object        \n",
      "dtypes: datetime64[ns](1), float64(4), int64(1), object(7)\n",
      "memory usage: 919.2+ KB\n"
     ]
    }
   ],
   "source": [
    "google_play_df.info()"
   ]
  },
  {
   "cell_type": "code",
   "execution_count": 31,
   "id": "6cf762a3-3a1e-4718-8692-7495d01517e3",
   "metadata": {},
   "outputs": [
    {
     "data": {
      "text/html": [
       "<div>\n",
       "<style scoped>\n",
       "    .dataframe tbody tr th:only-of-type {\n",
       "        vertical-align: middle;\n",
       "    }\n",
       "\n",
       "    .dataframe tbody tr th {\n",
       "        vertical-align: top;\n",
       "    }\n",
       "\n",
       "    .dataframe thead th {\n",
       "        text-align: right;\n",
       "    }\n",
       "</style>\n",
       "<table border=\"1\" class=\"dataframe\">\n",
       "  <thead>\n",
       "    <tr style=\"text-align: right;\">\n",
       "      <th></th>\n",
       "      <th>App</th>\n",
       "      <th>Category</th>\n",
       "      <th>Rating</th>\n",
       "      <th>Reviews</th>\n",
       "      <th>Size</th>\n",
       "      <th>Installs</th>\n",
       "      <th>Type</th>\n",
       "      <th>Price</th>\n",
       "      <th>Content Rating</th>\n",
       "      <th>Genres</th>\n",
       "      <th>Last Updated</th>\n",
       "      <th>Current Ver</th>\n",
       "      <th>Android Ver</th>\n",
       "    </tr>\n",
       "  </thead>\n",
       "  <tbody>\n",
       "    <tr>\n",
       "      <th>0</th>\n",
       "      <td>Photo Editor &amp; Candy Camera &amp; Grid &amp; ScrapBook</td>\n",
       "      <td>ART_AND_DESIGN</td>\n",
       "      <td>4.1</td>\n",
       "      <td>159</td>\n",
       "      <td>19.0</td>\n",
       "      <td>10000.0</td>\n",
       "      <td>Free</td>\n",
       "      <td>0.0</td>\n",
       "      <td>Everyone</td>\n",
       "      <td>[Art &amp; Design]</td>\n",
       "      <td>2018-01-07</td>\n",
       "      <td>1.0.0</td>\n",
       "      <td>4.0.3</td>\n",
       "    </tr>\n",
       "    <tr>\n",
       "      <th>1</th>\n",
       "      <td>Coloring book moana</td>\n",
       "      <td>ART_AND_DESIGN</td>\n",
       "      <td>3.9</td>\n",
       "      <td>967</td>\n",
       "      <td>14.0</td>\n",
       "      <td>500000.0</td>\n",
       "      <td>Free</td>\n",
       "      <td>0.0</td>\n",
       "      <td>Everyone</td>\n",
       "      <td>[Art &amp; Design, Pretend Play]</td>\n",
       "      <td>2018-01-15</td>\n",
       "      <td>2.0.0</td>\n",
       "      <td>4.0.3</td>\n",
       "    </tr>\n",
       "    <tr>\n",
       "      <th>2</th>\n",
       "      <td>U Launcher Lite – FREE Live Cool Themes, Hide ...</td>\n",
       "      <td>ART_AND_DESIGN</td>\n",
       "      <td>4.7</td>\n",
       "      <td>87510</td>\n",
       "      <td>8.7</td>\n",
       "      <td>5000000.0</td>\n",
       "      <td>Free</td>\n",
       "      <td>0.0</td>\n",
       "      <td>Everyone</td>\n",
       "      <td>[Art &amp; Design]</td>\n",
       "      <td>2018-08-01</td>\n",
       "      <td>1.2.4</td>\n",
       "      <td>4.0.3</td>\n",
       "    </tr>\n",
       "    <tr>\n",
       "      <th>3</th>\n",
       "      <td>Pixel Draw - Number Art Coloring Book</td>\n",
       "      <td>ART_AND_DESIGN</td>\n",
       "      <td>4.3</td>\n",
       "      <td>967</td>\n",
       "      <td>2.8</td>\n",
       "      <td>100000.0</td>\n",
       "      <td>Free</td>\n",
       "      <td>0.0</td>\n",
       "      <td>Everyone</td>\n",
       "      <td>[Art &amp; Design, Creativity]</td>\n",
       "      <td>2018-06-20</td>\n",
       "      <td>1.1.0</td>\n",
       "      <td>4.4.0</td>\n",
       "    </tr>\n",
       "    <tr>\n",
       "      <th>4</th>\n",
       "      <td>Paper flowers instructions</td>\n",
       "      <td>ART_AND_DESIGN</td>\n",
       "      <td>4.4</td>\n",
       "      <td>167</td>\n",
       "      <td>5.6</td>\n",
       "      <td>50000.0</td>\n",
       "      <td>Free</td>\n",
       "      <td>0.0</td>\n",
       "      <td>Everyone</td>\n",
       "      <td>[Art &amp; Design]</td>\n",
       "      <td>2017-03-26</td>\n",
       "      <td>1.0.0</td>\n",
       "      <td>2.3.0</td>\n",
       "    </tr>\n",
       "  </tbody>\n",
       "</table>\n",
       "</div>"
      ],
      "text/plain": [
       "                                                 App        Category  Rating  \\\n",
       "0     Photo Editor & Candy Camera & Grid & ScrapBook  ART_AND_DESIGN     4.1   \n",
       "1                                Coloring book moana  ART_AND_DESIGN     3.9   \n",
       "2  U Launcher Lite – FREE Live Cool Themes, Hide ...  ART_AND_DESIGN     4.7   \n",
       "3              Pixel Draw - Number Art Coloring Book  ART_AND_DESIGN     4.3   \n",
       "4                         Paper flowers instructions  ART_AND_DESIGN     4.4   \n",
       "\n",
       "   Reviews  Size   Installs  Type  Price Content Rating  \\\n",
       "0      159  19.0    10000.0  Free    0.0       Everyone   \n",
       "1      967  14.0   500000.0  Free    0.0       Everyone   \n",
       "2    87510   8.7  5000000.0  Free    0.0       Everyone   \n",
       "3      967   2.8   100000.0  Free    0.0       Everyone   \n",
       "4      167   5.6    50000.0  Free    0.0       Everyone   \n",
       "\n",
       "                         Genres Last Updated Current Ver Android Ver  \n",
       "0                [Art & Design]   2018-01-07       1.0.0       4.0.3  \n",
       "1  [Art & Design, Pretend Play]   2018-01-15       2.0.0       4.0.3  \n",
       "2                [Art & Design]   2018-08-01       1.2.4       4.0.3  \n",
       "3    [Art & Design, Creativity]   2018-06-20       1.1.0       4.4.0  \n",
       "4                [Art & Design]   2017-03-26       1.0.0       2.3.0  "
      ]
     },
     "execution_count": 31,
     "metadata": {},
     "output_type": "execute_result"
    }
   ],
   "source": [
    "google_play_df.head()"
   ]
  },
  {
   "cell_type": "markdown",
   "id": "571df0b4-b37b-418a-9649-60ef6dd70e64",
   "metadata": {},
   "source": [
    "# Save cleaned data"
   ]
  },
  {
   "cell_type": "code",
   "execution_count": 32,
   "id": "dc7333aa-5a03-4085-9dff-2251bd85e58e",
   "metadata": {},
   "outputs": [],
   "source": [
    "google_play_df.to_csv('google_play_cleaned.csv')"
   ]
  },
  {
   "cell_type": "markdown",
   "id": "19b15693-497c-42cf-83ec-963be3e4df77",
   "metadata": {},
   "source": [
    "# Answer statistical questions"
   ]
  },
  {
   "cell_type": "markdown",
   "id": "f6da11ca-a38e-4219-84da-016f52515bb1",
   "metadata": {
    "jp-MarkdownHeadingCollapsed": true
   },
   "source": [
    "## 1. What is the most expensive app on the Play Store?"
   ]
  },
  {
   "cell_type": "code",
   "execution_count": 33,
   "id": "b45441ef-3ebb-43cb-a691-9613128df202",
   "metadata": {},
   "outputs": [
    {
     "data": {
      "text/html": [
       "<div>\n",
       "<style scoped>\n",
       "    .dataframe tbody tr th:only-of-type {\n",
       "        vertical-align: middle;\n",
       "    }\n",
       "\n",
       "    .dataframe tbody tr th {\n",
       "        vertical-align: top;\n",
       "    }\n",
       "\n",
       "    .dataframe thead th {\n",
       "        text-align: right;\n",
       "    }\n",
       "</style>\n",
       "<table border=\"1\" class=\"dataframe\">\n",
       "  <thead>\n",
       "    <tr style=\"text-align: right;\">\n",
       "      <th></th>\n",
       "      <th>App</th>\n",
       "      <th>Category</th>\n",
       "      <th>Rating</th>\n",
       "      <th>Reviews</th>\n",
       "      <th>Size</th>\n",
       "      <th>Installs</th>\n",
       "      <th>Type</th>\n",
       "      <th>Price</th>\n",
       "      <th>Content Rating</th>\n",
       "      <th>Genres</th>\n",
       "      <th>Last Updated</th>\n",
       "      <th>Current Ver</th>\n",
       "      <th>Android Ver</th>\n",
       "    </tr>\n",
       "  </thead>\n",
       "  <tbody>\n",
       "    <tr>\n",
       "      <th>3169</th>\n",
       "      <td>I'm Rich - Trump Edition</td>\n",
       "      <td>LIFESTYLE</td>\n",
       "      <td>3.6</td>\n",
       "      <td>275</td>\n",
       "      <td>7.3</td>\n",
       "      <td>10000.0</td>\n",
       "      <td>Paid</td>\n",
       "      <td>400.0</td>\n",
       "      <td>Everyone</td>\n",
       "      <td>[Lifestyle]</td>\n",
       "      <td>2018-05-03</td>\n",
       "      <td>1.0.1</td>\n",
       "      <td>4.1.0</td>\n",
       "    </tr>\n",
       "  </tbody>\n",
       "</table>\n",
       "</div>"
      ],
      "text/plain": [
       "                           App   Category  Rating  Reviews  Size  Installs  \\\n",
       "3169  I'm Rich - Trump Edition  LIFESTYLE     3.6      275   7.3   10000.0   \n",
       "\n",
       "      Type  Price Content Rating       Genres Last Updated Current Ver  \\\n",
       "3169  Paid  400.0       Everyone  [Lifestyle]   2018-05-03       1.0.1   \n",
       "\n",
       "     Android Ver  \n",
       "3169       4.1.0  "
      ]
     },
     "execution_count": 33,
     "metadata": {},
     "output_type": "execute_result"
    }
   ],
   "source": [
    "google_play_df[google_play_df['Price'] == google_play_df['Price'].max()]"
   ]
  },
  {
   "cell_type": "markdown",
   "id": "8b3f521b-b17e-460e-9f61-f29d8b0bcef1",
   "metadata": {
    "jp-MarkdownHeadingCollapsed": true
   },
   "source": [
    "## 2. Which genre has the highest number of apps?"
   ]
  },
  {
   "cell_type": "code",
   "execution_count": 34,
   "id": "4f32c8d7-f4c3-4ef9-bd00-a31dc1a25286",
   "metadata": {},
   "outputs": [
    {
     "name": "stdout",
     "output_type": "stream",
     "text": [
      "Genre with the highest number of apps: Tools\n"
     ]
    }
   ],
   "source": [
    "genre_counts = google_play_df['Genres'].explode().value_counts()\n",
    "most_popular_genre = genre_counts.idxmax()\n",
    "most_popular_count = genre_counts.max()\n",
    "print(\"Genre with the highest number of apps:\", most_popular_genre)"
   ]
  },
  {
   "cell_type": "markdown",
   "id": "db8aab1c-b28f-416c-9048-dce42165c681",
   "metadata": {
    "jp-MarkdownHeadingCollapsed": true
   },
   "source": [
    "## 3. What is the average size of free vs. paid apps?"
   ]
  },
  {
   "cell_type": "code",
   "execution_count": 35,
   "id": "7c788a92-c6ff-4d76-bd59-9a36fac924c8",
   "metadata": {},
   "outputs": [
    {
     "name": "stdout",
     "output_type": "stream",
     "text": [
      "Average size for free apps 21.638208447230472\n",
      "Average size for paid apps 19.43634751966783\n"
     ]
    }
   ],
   "source": [
    "average_size_free_apps = google_play_df[google_play_df['Type']=='Free']['Size'].mean()\n",
    "average_size_paid_apps = google_play_df[google_play_df['Type']=='Paid']['Size'].mean()\n",
    "print(\"Average size for free apps\",average_size_free_apps)\n",
    "print(\"Average size for paid apps\",average_size_paid_apps)"
   ]
  },
  {
   "cell_type": "markdown",
   "id": "2a7e4372-ea5b-4be7-a15f-3c7892fdc604",
   "metadata": {
    "jp-MarkdownHeadingCollapsed": true
   },
   "source": [
    "## 4. What are the top 5 most expensive apps with a perfect rating (5)?\n"
   ]
  },
  {
   "cell_type": "code",
   "execution_count": 36,
   "id": "82fb82a1-13b7-4541-8559-1418b289ca3c",
   "metadata": {},
   "outputs": [
    {
     "data": {
      "text/html": [
       "<div>\n",
       "<style scoped>\n",
       "    .dataframe tbody tr th:only-of-type {\n",
       "        vertical-align: middle;\n",
       "    }\n",
       "\n",
       "    .dataframe tbody tr th {\n",
       "        vertical-align: top;\n",
       "    }\n",
       "\n",
       "    .dataframe thead th {\n",
       "        text-align: right;\n",
       "    }\n",
       "</style>\n",
       "<table border=\"1\" class=\"dataframe\">\n",
       "  <thead>\n",
       "    <tr style=\"text-align: right;\">\n",
       "      <th></th>\n",
       "      <th>App</th>\n",
       "      <th>Category</th>\n",
       "      <th>Rating</th>\n",
       "      <th>Reviews</th>\n",
       "      <th>Size</th>\n",
       "      <th>Installs</th>\n",
       "      <th>Type</th>\n",
       "      <th>Price</th>\n",
       "      <th>Content Rating</th>\n",
       "      <th>Genres</th>\n",
       "      <th>Last Updated</th>\n",
       "      <th>Current Ver</th>\n",
       "      <th>Android Ver</th>\n",
       "    </tr>\n",
       "  </thead>\n",
       "  <tbody>\n",
       "    <tr>\n",
       "      <th>4161</th>\n",
       "      <td>AP Art History Flashcards</td>\n",
       "      <td>FAMILY</td>\n",
       "      <td>5.0</td>\n",
       "      <td>1</td>\n",
       "      <td>96.000000</td>\n",
       "      <td>10.0</td>\n",
       "      <td>Paid</td>\n",
       "      <td>29.99</td>\n",
       "      <td>Mature 17+</td>\n",
       "      <td>[Education]</td>\n",
       "      <td>2016-01-19</td>\n",
       "      <td>3.30.0</td>\n",
       "      <td>4.0.0</td>\n",
       "    </tr>\n",
       "    <tr>\n",
       "      <th>5955</th>\n",
       "      <td>USMLE Step 2 CK Flashcards</td>\n",
       "      <td>FAMILY</td>\n",
       "      <td>5.0</td>\n",
       "      <td>1</td>\n",
       "      <td>40.000000</td>\n",
       "      <td>10.0</td>\n",
       "      <td>Paid</td>\n",
       "      <td>19.99</td>\n",
       "      <td>Everyone</td>\n",
       "      <td>[Education]</td>\n",
       "      <td>2014-05-26</td>\n",
       "      <td>2.47.0</td>\n",
       "      <td>2.2.0</td>\n",
       "    </tr>\n",
       "    <tr>\n",
       "      <th>3937</th>\n",
       "      <td>Hey AJ! It's Bedtime!</td>\n",
       "      <td>FAMILY</td>\n",
       "      <td>5.0</td>\n",
       "      <td>1</td>\n",
       "      <td>63.000000</td>\n",
       "      <td>10.0</td>\n",
       "      <td>Paid</td>\n",
       "      <td>4.99</td>\n",
       "      <td>Everyone</td>\n",
       "      <td>[Education]</td>\n",
       "      <td>2018-04-04</td>\n",
       "      <td>1.0.59</td>\n",
       "      <td>2.3.0</td>\n",
       "    </tr>\n",
       "    <tr>\n",
       "      <th>5712</th>\n",
       "      <td>TI-84 CE Graphing Calculator Manual TI 84</td>\n",
       "      <td>FAMILY</td>\n",
       "      <td>5.0</td>\n",
       "      <td>1</td>\n",
       "      <td>27.000000</td>\n",
       "      <td>100.0</td>\n",
       "      <td>Paid</td>\n",
       "      <td>4.99</td>\n",
       "      <td>Everyone</td>\n",
       "      <td>[Education]</td>\n",
       "      <td>2018-03-28</td>\n",
       "      <td>1.5.2</td>\n",
       "      <td>4.1.0</td>\n",
       "    </tr>\n",
       "    <tr>\n",
       "      <th>4154</th>\n",
       "      <td>meStudying: AP English Lit</td>\n",
       "      <td>FAMILY</td>\n",
       "      <td>5.0</td>\n",
       "      <td>1</td>\n",
       "      <td>0.639648</td>\n",
       "      <td>10.0</td>\n",
       "      <td>Paid</td>\n",
       "      <td>4.99</td>\n",
       "      <td>Everyone</td>\n",
       "      <td>[Education]</td>\n",
       "      <td>2013-08-31</td>\n",
       "      <td>1.3.0</td>\n",
       "      <td>2.0.1</td>\n",
       "    </tr>\n",
       "  </tbody>\n",
       "</table>\n",
       "</div>"
      ],
      "text/plain": [
       "                                            App Category  Rating  Reviews  \\\n",
       "4161                  AP Art History Flashcards   FAMILY     5.0        1   \n",
       "5955                 USMLE Step 2 CK Flashcards   FAMILY     5.0        1   \n",
       "3937                      Hey AJ! It's Bedtime!   FAMILY     5.0        1   \n",
       "5712  TI-84 CE Graphing Calculator Manual TI 84   FAMILY     5.0        1   \n",
       "4154                 meStudying: AP English Lit   FAMILY     5.0        1   \n",
       "\n",
       "           Size  Installs  Type  Price Content Rating       Genres  \\\n",
       "4161  96.000000      10.0  Paid  29.99     Mature 17+  [Education]   \n",
       "5955  40.000000      10.0  Paid  19.99       Everyone  [Education]   \n",
       "3937  63.000000      10.0  Paid   4.99       Everyone  [Education]   \n",
       "5712  27.000000     100.0  Paid   4.99       Everyone  [Education]   \n",
       "4154   0.639648      10.0  Paid   4.99       Everyone  [Education]   \n",
       "\n",
       "     Last Updated Current Ver Android Ver  \n",
       "4161   2016-01-19      3.30.0       4.0.0  \n",
       "5955   2014-05-26      2.47.0       2.2.0  \n",
       "3937   2018-04-04      1.0.59       2.3.0  \n",
       "5712   2018-03-28       1.5.2       4.1.0  \n",
       "4154   2013-08-31       1.3.0       2.0.1  "
      ]
     },
     "execution_count": 36,
     "metadata": {},
     "output_type": "execute_result"
    }
   ],
   "source": [
    "google_play_df[google_play_df['Rating'] == 5].sort_values(by='Price', ascending=False).head(5)"
   ]
  },
  {
   "cell_type": "markdown",
   "id": "f4119b4e-5c86-4bad-aaa0-4f5ce1198ec7",
   "metadata": {
    "jp-MarkdownHeadingCollapsed": true
   },
   "source": [
    "## 5. How many apps have received more than 50K reviews?\n"
   ]
  },
  {
   "cell_type": "code",
   "execution_count": 37,
   "id": "b68f3758-9aea-4aaa-a812-1977ddcd5a26",
   "metadata": {},
   "outputs": [
    {
     "name": "stdout",
     "output_type": "stream",
     "text": [
      "Number of apps with more than 50k reviews 1699\n"
     ]
    }
   ],
   "source": [
    "num_of_apps_with_more_than_50k = len(google_play_df[google_play_df['Reviews']>50_000])\n",
    "print(\"Number of apps with more than 50k reviews\",num_of_apps_with_more_than_50k)"
   ]
  },
  {
   "cell_type": "markdown",
   "id": "6d332f92-8c9a-46ef-a398-9fb90bdee567",
   "metadata": {
    "jp-MarkdownHeadingCollapsed": true
   },
   "source": [
    "## 6. What is the average price of apps, grouped by genre and number of installs?\n"
   ]
  },
  {
   "cell_type": "code",
   "execution_count": 38,
   "id": "6180c4cd-b9bf-436c-b1f7-a6dc6f7bfa7f",
   "metadata": {},
   "outputs": [
    {
     "name": "stdout",
     "output_type": "stream",
     "text": [
      "     Genres    Installs   Price\n",
      "0    Action        10.0  0.0000\n",
      "1    Action        50.0  0.9950\n",
      "2    Action       100.0  1.3700\n",
      "3    Action       500.0  0.9950\n",
      "4    Action      1000.0  0.3725\n",
      "..      ...         ...     ...\n",
      "723    Word    100000.0  0.0000\n",
      "724    Word   1000000.0  0.0000\n",
      "725    Word   5000000.0  0.0000\n",
      "726    Word  10000000.0  0.0000\n",
      "727    Word  50000000.0  0.0000\n",
      "\n",
      "[728 rows x 3 columns]\n"
     ]
    }
   ],
   "source": [
    "df_exploded = google_play_df.explode('Genres')\n",
    "avg_price_by_genre_installs = df_exploded.groupby(['Genres', 'Installs'])['Price'].mean().reset_index()\n",
    "print(avg_price_by_genre_installs)"
   ]
  },
  {
   "cell_type": "markdown",
   "id": "630f03ce-e28c-4ef3-a3f9-5d8a641b4748",
   "metadata": {
    "jp-MarkdownHeadingCollapsed": true
   },
   "source": [
    "## 7. How many apps have a rating higher than 4.7, and what is their average price?\n"
   ]
  },
  {
   "cell_type": "code",
   "execution_count": 39,
   "id": "d0df4209-bc7b-429f-8a8c-49effec1ef5b",
   "metadata": {},
   "outputs": [
    {
     "name": "stdout",
     "output_type": "stream",
     "text": [
      "Number of apps 563\n",
      "Average price 0.47985790408525747\n"
     ]
    }
   ],
   "source": [
    "apps_with_higher_rate = google_play_df[google_play_df['Rating']> 4.7]\n",
    "average_price = apps_with_higher_rate['Price'].mean()\n",
    "print(\"Number of apps\",len(apps_with_higher_rate))\n",
    "print(\"Average price\",average_price)"
   ]
  },
  {
   "cell_type": "markdown",
   "id": "fe639a66-bbf0-4b89-8b67-6a8abf2ff174",
   "metadata": {
    "jp-MarkdownHeadingCollapsed": true
   },
   "source": [
    "## 8. What is Google's estimated revenue from apps with 5,000,000+ installs?\n"
   ]
  },
  {
   "cell_type": "code",
   "execution_count": 40,
   "id": "e89bea36-3b7c-4ba0-9aaa-e7d323acb6a5",
   "metadata": {},
   "outputs": [
    {
     "name": "stdout",
     "output_type": "stream",
     "text": [
      "Revenue from apps with 5,000,000+ installs: 2970000.0\n"
     ]
    }
   ],
   "source": [
    "# (Assuming Google takes a 30% cut from app sales)\n",
    "apps_with_this_number_of_installs = google_play_df[google_play_df['Installs']>=5_000_000]\n",
    "estimated_revenue=(apps_with_this_number_of_installs['Price']*apps_with_this_number_of_installs['Installs']*.3).sum()\n",
    "print(\"Revenue from apps with 5,000,000+ installs:\", estimated_revenue)"
   ]
  },
  {
   "cell_type": "markdown",
   "id": "40a23b8d-3b81-42f5-843e-8272292d62cc",
   "metadata": {
    "jp-MarkdownHeadingCollapsed": true
   },
   "source": [
    "## 9. What are the maximum and minimum sizes of free vs. paid apps?\n"
   ]
  },
  {
   "cell_type": "code",
   "execution_count": 41,
   "id": "1af8a42d-51f5-4116-8ff9-27da6341cd0c",
   "metadata": {},
   "outputs": [
    {
     "name": "stdout",
     "output_type": "stream",
     "text": [
      "maximum sizes of free 100.0\n",
      "minimum sizes of free 0.00830078125\n",
      "maximum sizes of paid 100.0\n",
      "minimum sizes of paid 0.0166015625\n"
     ]
    }
   ],
   "source": [
    "free_apps = google_play_df[google_play_df['Type']=='Free']['Size']\n",
    "paid_apps = google_play_df[google_play_df['Type']=='Paid']['Size']\n",
    "print('maximum sizes of free',free_apps.max())\n",
    "print('minimum sizes of free',free_apps.min())\n",
    "\n",
    "print('maximum sizes of paid',paid_apps.max())\n",
    "print('minimum sizes of paid',paid_apps.min())"
   ]
  },
  {
   "cell_type": "markdown",
   "id": "e4d8841c-bd9f-44a6-83ae-0bca6c109099",
   "metadata": {
    "jp-MarkdownHeadingCollapsed": true
   },
   "source": [
    "## 10. Is there a correlation between an app’s rating, number of reviews, size, and its price?"
   ]
  },
  {
   "cell_type": "code",
   "execution_count": 42,
   "id": "7121fa7c-52de-4997-8e70-7e0e5f92742c",
   "metadata": {},
   "outputs": [
    {
     "name": "stdout",
     "output_type": "stream",
     "text": [
      "           Rating   Reviews      Size     Price\n",
      "Rating   1.000000  0.078972  0.079220 -0.019668\n",
      "Reviews  0.078972  1.000000  0.238536 -0.009790\n",
      "Size     0.079220  0.238536  1.000000 -0.022909\n",
      "Price   -0.019668 -0.009790 -0.022909  1.000000\n"
     ]
    },
    {
     "data": {
      "image/png": "[encoded data removed]",
      "text/plain": [
       "<Figure size 800x600 with 2 Axes>"
      ]
     },
     "metadata": {},
     "output_type": "display_data"
    }
   ],
   "source": [
    "numeric_columns = ['Rating', 'Reviews', 'Size', 'Price']\n",
    "google_play_df_cleaned = google_play_df[numeric_columns]\n",
    "correlation_matrix = google_play_df_cleaned.corr()\n",
    "print(correlation_matrix)\n",
    "# Plot heatmap\n",
    "plt.figure(figsize=(8, 6))\n",
    "sns.heatmap(correlation_matrix, annot=True, cmap='coolwarm', fmt=\".2f\", linewidths=0.5)\n",
    "plt.title(\"Correlation Heatmap of Rating, Reviews, Size, and Price\")\n",
    "plt.show()\n",
    "# There is a weak correlation between Rating, Reviews, Size, and Price."
   ]
  },
  {
   "cell_type": "markdown",
   "id": "8a63dd22-8906-4358-b26f-2f27b2caa8c3",
   "metadata": {
    "jp-MarkdownHeadingCollapsed": true
   },
   "source": [
    "## 11. How many apps exist for each type (free/paid) across different content ratings?\n"
   ]
  },
  {
   "cell_type": "code",
   "execution_count": 43,
   "id": "8d868f97-6bc6-4677-b96a-557d8e32c8c6",
   "metadata": {},
   "outputs": [
    {
     "name": "stdout",
     "output_type": "stream",
     "text": [
      "Free apps by content rating:\n",
      " Content Rating\n",
      "Adults only 18+       2\n",
      "Everyone           6731\n",
      "Everyone 10+        298\n",
      "Mature 17+          382\n",
      "Teen                919\n",
      "Unrated               2\n",
      "Name: App, dtype: int64\n",
      "\n",
      "Paid apps by content rating:\n",
      " Content Rating\n",
      "Everyone        619\n",
      "Everyone 10+     28\n",
      "Mature 17+       17\n",
      "Teen             51\n",
      "Name: App, dtype: int64\n"
     ]
    }
   ],
   "source": [
    "free_apps_count = google_play_df[google_play_df['Type'] == 'Free'].groupby('Content Rating')['App'].count()\n",
    "paid_apps_count = google_play_df[google_play_df['Type'] == 'Paid'].groupby('Content Rating')['App'].count()\n",
    "\n",
    "print(\"Free apps by content rating:\\n\", free_apps_count)\n",
    "print(\"\\nPaid apps by content rating:\\n\", paid_apps_count)"
   ]
  },
  {
   "cell_type": "markdown",
   "id": "32d8da0a-133c-42ff-a941-4064e171487f",
   "metadata": {},
   "source": [
    "## 12. How many apps are compatible with Android version 4.x?\n"
   ]
  },
  {
   "cell_type": "code",
   "execution_count": 44,
   "id": "dc4dc8f7-0de1-438b-b95b-8f6535b472bb",
   "metadata": {
    "scrolled": true
   },
   "outputs": [
    {
     "name": "stdout",
     "output_type": "stream",
     "text": [
      "Number of apps compatible with Android version 4.x: 4535\n"
     ]
    }
   ],
   "source": [
    "google_play_df[['Min Ver', 'Max Ver']] = google_play_df['Android Ver'].str.split(' - ', expand=True)\n",
    "google_play_df['Max Ver'] = google_play_df['Max Ver'].where(google_play_df['Android Ver'].str.contains(' - '))\n",
    "compatible_apps = google_play_df[\n",
    "    (google_play_df['Min Ver'].str[0:3] <= '4.0') & (\n",
    "        google_play_df['Max Ver'].isna()\n",
    "        |(google_play_df['Max Ver'].str[0:3] >= '4.0'))\n",
    "]\n",
    "\n",
    "print(\"Number of apps compatible with Android version 4.x:\", len(compatible_apps))"
   ]
  }
 ],
 "metadata": {
  "kernelspec": {
   "display_name": "Python 3 (ipykernel)",
   "language": "python",
   "name": "python3"
  },
  "language_info": {
   "codemirror_mode": {
    "name": "ipython",
    "version": 3
   },
   "file_extension": ".py",
   "mimetype": "text/x-python",
   "name": "python",
   "nbconvert_exporter": "python",
   "pygments_lexer": "ipython3",
   "version": "3.9.20"
  },
  "widgets": {
   "application/vnd.jupyter.widget-state+json": {
    "state": {},
    "version_major": 2,
    "version_minor": 0
   }
  }
 },
 "nbformat": 4,
 "nbformat_minor": 5
}
